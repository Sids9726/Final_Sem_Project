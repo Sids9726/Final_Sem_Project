{
 "cells": [
  {
   "cell_type": "code",
   "execution_count": 35,
   "metadata": {},
   "outputs": [
    {
     "name": "stdout",
     "output_type": "stream",
     "text": [
      "            Time         V1         V2        V3        V4        V5  \\\n",
      "0            0.0  -1.359807  -0.072781  2.536347  1.378155 -0.338321   \n",
      "1            0.0   1.191857   0.266151  0.166480  0.448154  0.060018   \n",
      "2            1.0  -1.358354  -1.340163  1.773209  0.379780 -0.503198   \n",
      "3            1.0  -0.966272  -0.185226  1.792993 -0.863291 -0.010309   \n",
      "4            2.0  -1.158233   0.877737  1.548718  0.403034 -0.407193   \n",
      "...          ...        ...        ...       ...       ...       ...   \n",
      "284802  172786.0 -11.881118  10.071785 -9.834783 -2.066656 -5.364473   \n",
      "284803  172787.0  -0.732789  -0.055080  2.035030 -0.738589  0.868229   \n",
      "284804  172788.0   1.919565  -0.301254 -3.249640 -0.557828  2.630515   \n",
      "284805  172788.0  -0.240440   0.530483  0.702510  0.689799 -0.377961   \n",
      "284806  172792.0  -0.533413  -0.189733  0.703337 -0.506271 -0.012546   \n",
      "\n",
      "              V6        V7        V8        V9  ...       V21       V22  \\\n",
      "0       0.462388  0.239599  0.098698  0.363787  ... -0.018307  0.277838   \n",
      "1      -0.082361 -0.078803  0.085102 -0.255425  ... -0.225775 -0.638672   \n",
      "2       1.800499  0.791461  0.247676 -1.514654  ...  0.247998  0.771679   \n",
      "3       1.247203  0.237609  0.377436 -1.387024  ... -0.108300  0.005274   \n",
      "4       0.095921  0.592941 -0.270533  0.817739  ... -0.009431  0.798278   \n",
      "...          ...       ...       ...       ...  ...       ...       ...   \n",
      "284802 -2.606837 -4.918215  7.305334  1.914428  ...  0.213454  0.111864   \n",
      "284803  1.058415  0.024330  0.294869  0.584800  ...  0.214205  0.924384   \n",
      "284804  3.031260 -0.296827  0.708417  0.432454  ...  0.232045  0.578229   \n",
      "284805  0.623708 -0.686180  0.679145  0.392087  ...  0.265245  0.800049   \n",
      "284806 -0.649617  1.577006 -0.414650  0.486180  ...  0.261057  0.643078   \n",
      "\n",
      "             V23       V24       V25       V26       V27       V28  Amount  \\\n",
      "0      -0.110474  0.066928  0.128539 -0.189115  0.133558 -0.021053  149.62   \n",
      "1       0.101288 -0.339846  0.167170  0.125895 -0.008983  0.014724    2.69   \n",
      "2       0.909412 -0.689281 -0.327642 -0.139097 -0.055353 -0.059752  378.66   \n",
      "3      -0.190321 -1.175575  0.647376 -0.221929  0.062723  0.061458  123.50   \n",
      "4      -0.137458  0.141267 -0.206010  0.502292  0.219422  0.215153   69.99   \n",
      "...          ...       ...       ...       ...       ...       ...     ...   \n",
      "284802  1.014480 -0.509348  1.436807  0.250034  0.943651  0.823731    0.77   \n",
      "284803  0.012463 -1.016226 -0.606624 -0.395255  0.068472 -0.053527   24.79   \n",
      "284804 -0.037501  0.640134  0.265745 -0.087371  0.004455 -0.026561   67.88   \n",
      "284805 -0.163298  0.123205 -0.569159  0.546668  0.108821  0.104533   10.00   \n",
      "284806  0.376777  0.008797 -0.473649 -0.818267 -0.002415  0.013649  217.00   \n",
      "\n",
      "        Class  \n",
      "0           0  \n",
      "1           0  \n",
      "2           0  \n",
      "3           0  \n",
      "4           0  \n",
      "...       ...  \n",
      "284802      0  \n",
      "284803      0  \n",
      "284804      0  \n",
      "284805      0  \n",
      "284806      0  \n",
      "\n",
      "[284807 rows x 31 columns]\n"
     ]
    }
   ],
   "source": [
    "import pandas as pd\n",
    "import numpy as np\n",
    "import matplotlib.pyplot as plt\n",
    "import seaborn as sns\n",
    "\n",
    "import matplotlib.pyplot as plt\n",
    "from sklearn.metrics import  roc_curve, roc_auc_score, precision_recall_curve\n",
    "\n",
    "# Read csv file\n",
    "data = pd.read_csv('creditcard.csv')\n",
    "\n",
    "print(data)\n"
   ]
  },
  {
   "cell_type": "code",
   "execution_count": 36,
   "metadata": {},
   "outputs": [
    {
     "name": "stdout",
     "output_type": "stream",
     "text": [
      "   Time        V1        V2        V3        V4        V5        V6        V7  \\\n",
      "0   0.0 -1.359807 -0.072781  2.536347  1.378155 -0.338321  0.462388  0.239599   \n",
      "1   0.0  1.191857  0.266151  0.166480  0.448154  0.060018 -0.082361 -0.078803   \n",
      "2   1.0 -1.358354 -1.340163  1.773209  0.379780 -0.503198  1.800499  0.791461   \n",
      "3   1.0 -0.966272 -0.185226  1.792993 -0.863291 -0.010309  1.247203  0.237609   \n",
      "4   2.0 -1.158233  0.877737  1.548718  0.403034 -0.407193  0.095921  0.592941   \n",
      "\n",
      "         V8        V9  ...       V21       V22       V23       V24       V25  \\\n",
      "0  0.098698  0.363787  ... -0.018307  0.277838 -0.110474  0.066928  0.128539   \n",
      "1  0.085102 -0.255425  ... -0.225775 -0.638672  0.101288 -0.339846  0.167170   \n",
      "2  0.247676 -1.514654  ...  0.247998  0.771679  0.909412 -0.689281 -0.327642   \n",
      "3  0.377436 -1.387024  ... -0.108300  0.005274 -0.190321 -1.175575  0.647376   \n",
      "4 -0.270533  0.817739  ... -0.009431  0.798278 -0.137458  0.141267 -0.206010   \n",
      "\n",
      "        V26       V27       V28  Amount  Class  \n",
      "0 -0.189115  0.133558 -0.021053  149.62      0  \n",
      "1  0.125895 -0.008983  0.014724    2.69      0  \n",
      "2 -0.139097 -0.055353 -0.059752  378.66      0  \n",
      "3 -0.221929  0.062723  0.061458  123.50      0  \n",
      "4  0.502292  0.219422  0.215153   69.99      0  \n",
      "\n",
      "[5 rows x 31 columns]\n"
     ]
    }
   ],
   "source": [
    "# get first five rows of the dataset\n",
    "print(data.head())\n"
   ]
  },
  {
   "cell_type": "code",
   "execution_count": 37,
   "metadata": {},
   "outputs": [
    {
     "name": "stdout",
     "output_type": "stream",
     "text": [
      "                Time            V1            V2            V3            V4  \\\n",
      "count  284807.000000  2.848070e+05  2.848070e+05  2.848070e+05  2.848070e+05   \n",
      "mean    94813.859575  1.168375e-15  3.416908e-16 -1.379537e-15  2.074095e-15   \n",
      "std     47488.145955  1.958696e+00  1.651309e+00  1.516255e+00  1.415869e+00   \n",
      "min         0.000000 -5.640751e+01 -7.271573e+01 -4.832559e+01 -5.683171e+00   \n",
      "25%     54201.500000 -9.203734e-01 -5.985499e-01 -8.903648e-01 -8.486401e-01   \n",
      "50%     84692.000000  1.810880e-02  6.548556e-02  1.798463e-01 -1.984653e-02   \n",
      "75%    139320.500000  1.315642e+00  8.037239e-01  1.027196e+00  7.433413e-01   \n",
      "max    172792.000000  2.454930e+00  2.205773e+01  9.382558e+00  1.687534e+01   \n",
      "\n",
      "                 V5            V6            V7            V8            V9  \\\n",
      "count  2.848070e+05  2.848070e+05  2.848070e+05  2.848070e+05  2.848070e+05   \n",
      "mean   9.604066e-16  1.487313e-15 -5.556467e-16  1.213481e-16 -2.406331e-15   \n",
      "std    1.380247e+00  1.332271e+00  1.237094e+00  1.194353e+00  1.098632e+00   \n",
      "min   -1.137433e+02 -2.616051e+01 -4.355724e+01 -7.321672e+01 -1.343407e+01   \n",
      "25%   -6.915971e-01 -7.682956e-01 -5.540759e-01 -2.086297e-01 -6.430976e-01   \n",
      "50%   -5.433583e-02 -2.741871e-01  4.010308e-02  2.235804e-02 -5.142873e-02   \n",
      "75%    6.119264e-01  3.985649e-01  5.704361e-01  3.273459e-01  5.971390e-01   \n",
      "max    3.480167e+01  7.330163e+01  1.205895e+02  2.000721e+01  1.559499e+01   \n",
      "\n",
      "       ...           V21           V22           V23           V24  \\\n",
      "count  ...  2.848070e+05  2.848070e+05  2.848070e+05  2.848070e+05   \n",
      "mean   ...  1.654067e-16 -3.568593e-16  2.578648e-16  4.473266e-15   \n",
      "std    ...  7.345240e-01  7.257016e-01  6.244603e-01  6.056471e-01   \n",
      "min    ... -3.483038e+01 -1.093314e+01 -4.480774e+01 -2.836627e+00   \n",
      "25%    ... -2.283949e-01 -5.423504e-01 -1.618463e-01 -3.545861e-01   \n",
      "50%    ... -2.945017e-02  6.781943e-03 -1.119293e-02  4.097606e-02   \n",
      "75%    ...  1.863772e-01  5.285536e-01  1.476421e-01  4.395266e-01   \n",
      "max    ...  2.720284e+01  1.050309e+01  2.252841e+01  4.584549e+00   \n",
      "\n",
      "                V25           V26           V27           V28         Amount  \\\n",
      "count  2.848070e+05  2.848070e+05  2.848070e+05  2.848070e+05  284807.000000   \n",
      "mean   5.340915e-16  1.683437e-15 -3.660091e-16 -1.227390e-16      88.349619   \n",
      "std    5.212781e-01  4.822270e-01  4.036325e-01  3.300833e-01     250.120109   \n",
      "min   -1.029540e+01 -2.604551e+00 -2.256568e+01 -1.543008e+01       0.000000   \n",
      "25%   -3.171451e-01 -3.269839e-01 -7.083953e-02 -5.295979e-02       5.600000   \n",
      "50%    1.659350e-02 -5.213911e-02  1.342146e-03  1.124383e-02      22.000000   \n",
      "75%    3.507156e-01  2.409522e-01  9.104512e-02  7.827995e-02      77.165000   \n",
      "max    7.519589e+00  3.517346e+00  3.161220e+01  3.384781e+01   25691.160000   \n",
      "\n",
      "               Class  \n",
      "count  284807.000000  \n",
      "mean        0.001727  \n",
      "std         0.041527  \n",
      "min         0.000000  \n",
      "25%         0.000000  \n",
      "50%         0.000000  \n",
      "75%         0.000000  \n",
      "max         1.000000  \n",
      "\n",
      "[8 rows x 31 columns]\n"
     ]
    }
   ],
   "source": [
    "# Get summary statistics of the dataset\n",
    "print(data.describe())"
   ]
  },
  {
   "cell_type": "code",
   "execution_count": 38,
   "metadata": {},
   "outputs": [
    {
     "name": "stdout",
     "output_type": "stream",
     "text": [
      "<class 'pandas.core.frame.DataFrame'>\n",
      "RangeIndex: 284807 entries, 0 to 284806\n",
      "Data columns (total 31 columns):\n",
      " #   Column  Non-Null Count   Dtype  \n",
      "---  ------  --------------   -----  \n",
      " 0   Time    284807 non-null  float64\n",
      " 1   V1      284807 non-null  float64\n",
      " 2   V2      284807 non-null  float64\n",
      " 3   V3      284807 non-null  float64\n",
      " 4   V4      284807 non-null  float64\n",
      " 5   V5      284807 non-null  float64\n",
      " 6   V6      284807 non-null  float64\n",
      " 7   V7      284807 non-null  float64\n",
      " 8   V8      284807 non-null  float64\n",
      " 9   V9      284807 non-null  float64\n",
      " 10  V10     284807 non-null  float64\n",
      " 11  V11     284807 non-null  float64\n",
      " 12  V12     284807 non-null  float64\n",
      " 13  V13     284807 non-null  float64\n",
      " 14  V14     284807 non-null  float64\n",
      " 15  V15     284807 non-null  float64\n",
      " 16  V16     284807 non-null  float64\n",
      " 17  V17     284807 non-null  float64\n",
      " 18  V18     284807 non-null  float64\n",
      " 19  V19     284807 non-null  float64\n",
      " 20  V20     284807 non-null  float64\n",
      " 21  V21     284807 non-null  float64\n",
      " 22  V22     284807 non-null  float64\n",
      " 23  V23     284807 non-null  float64\n",
      " 24  V24     284807 non-null  float64\n",
      " 25  V25     284807 non-null  float64\n",
      " 26  V26     284807 non-null  float64\n",
      " 27  V27     284807 non-null  float64\n",
      " 28  V28     284807 non-null  float64\n",
      " 29  Amount  284807 non-null  float64\n",
      " 30  Class   284807 non-null  int64  \n",
      "dtypes: float64(30), int64(1)\n",
      "memory usage: 67.4 MB\n",
      "None\n"
     ]
    }
   ],
   "source": [
    "# get information about the dataset\n",
    "print(data.info())"
   ]
  },
  {
   "cell_type": "code",
   "execution_count": 39,
   "metadata": {},
   "outputs": [
    {
     "name": "stdout",
     "output_type": "stream",
     "text": [
      "Time      0\n",
      "V1        0\n",
      "V2        0\n",
      "V3        0\n",
      "V4        0\n",
      "V5        0\n",
      "V6        0\n",
      "V7        0\n",
      "V8        0\n",
      "V9        0\n",
      "V10       0\n",
      "V11       0\n",
      "V12       0\n",
      "V13       0\n",
      "V14       0\n",
      "V15       0\n",
      "V16       0\n",
      "V17       0\n",
      "V18       0\n",
      "V19       0\n",
      "V20       0\n",
      "V21       0\n",
      "V22       0\n",
      "V23       0\n",
      "V24       0\n",
      "V25       0\n",
      "V26       0\n",
      "V27       0\n",
      "V28       0\n",
      "Amount    0\n",
      "Class     0\n",
      "dtype: int64\n"
     ]
    }
   ],
   "source": [
    "# check the missing values of the dataste\n",
    "print(data.isnull().sum())"
   ]
  },
  {
   "cell_type": "markdown",
   "metadata": {},
   "source": [
    "building process of logistic regression (using v1,v2) (preprocessing step)"
   ]
  },
  {
   "cell_type": "code",
   "execution_count": 40,
   "metadata": {},
   "outputs": [
    {
     "name": "stdout",
     "output_type": "stream",
     "text": [
      "Accuracy: 0.6458333333333334\n",
      "Confusion Matrix:\n",
      "[[26  2]\n",
      " [15  5]]\n",
      "Classification Report:\n",
      "              precision    recall  f1-score   support\n",
      "\n",
      "           0       0.63      0.93      0.75        28\n",
      "           1       0.71      0.25      0.37        20\n",
      "\n",
      "    accuracy                           0.65        48\n",
      "   macro avg       0.67      0.59      0.56        48\n",
      "weighted avg       0.67      0.65      0.59        48\n",
      "\n"
     ]
    }
   ],
   "source": [
    "import pandas as pd\n",
    "from sklearn.model_selection import train_test_split\n",
    "from sklearn.linear_model import LogisticRegression\n",
    "from sklearn.metrics import classification_report, accuracy_score, confusion_matrix\n",
    "\n",
    "\n",
    "# Load the dataset\n",
    "original_dataset_path = 'creditcard.csv'\n",
    "df = pd.read_csv(original_dataset_path)\n",
    "\n",
    "# preprocessing phase \n",
    "# Select columns\n",
    "selected_columns = ['Time', 'V1', 'Amount', 'Class']\n",
    "df_selected = df[selected_columns]\n",
    "\n",
    "# Selection of 60 fraudulent transactions\n",
    "df_fraud = df_selected[df_selected['Class'] == 1].sample(n=60, random_state=1)\n",
    "\n",
    "# Selection of 100 non-fraudulent transactions\n",
    "df_non_fraud = df_selected[df_selected['Class'] == 0].sample(n=100, random_state=1)\n",
    "\n",
    "# Combining process of the selected samples\n",
    "df_balanced = pd.concat([df_fraud, df_non_fraud])\n",
    "\n",
    "# Split data into features and target\n",
    "X_balanced = df_balanced[['Time', 'V1', 'Amount']]\n",
    "y_balanced = df_balanced['Class']\n",
    "\n",
    "# Split data into training and testing sets\n",
    "X_train_balanced, X_test_balanced, y_train_balanced, y_test_balanced = train_test_split(X_balanced, y_balanced, test_size=0.3, random_state=1)\n",
    "\n",
    "# build the logistic regression model\n",
    "model_balanced = LogisticRegression(random_state=1, max_iter=1000)\n",
    "model_balanced.fit(X_train_balanced, y_train_balanced)\n",
    "\n",
    "\n",
    "# predictions on the test set\n",
    "y_pred_balanced = model_balanced.predict(X_test_balanced)\n",
    "\n",
    "# Evaluate the model\n",
    "accuracy_balanced = accuracy_score(y_test_balanced, y_pred_balanced)\n",
    "conf_matrix_balanced = confusion_matrix(y_test_balanced, y_pred_balanced)\n",
    "class_report_balanced = classification_report(y_test_balanced, y_pred_balanced)\n",
    "\n",
    "# Print the results\n",
    "print(f\"Accuracy: {accuracy_balanced}\")\n",
    "print(\"Confusion Matrix:\")\n",
    "print(conf_matrix_balanced)\n",
    "print(\"Classification Report:\")\n",
    "print(class_report_balanced)\n"
   ]
  },
  {
   "cell_type": "code",
   "execution_count": 41,
   "metadata": {},
   "outputs": [
    {
     "name": "stdout",
     "output_type": "stream",
     "text": [
      "Accuracy with custom threshold: 0.7708333333333334\n",
      "Confusion Matrix with custom threshold:\n",
      "[[25  3]\n",
      " [ 8 12]]\n",
      "Classification Report with custom threshold:\n",
      "              precision    recall  f1-score   support\n",
      "\n",
      "           0       0.76      0.89      0.82        28\n",
      "           1       0.80      0.60      0.69        20\n",
      "\n",
      "    accuracy                           0.77        48\n",
      "   macro avg       0.78      0.75      0.75        48\n",
      "weighted avg       0.78      0.77      0.76        48\n",
      "\n"
     ]
    },
    {
     "data": {
      "image/png": "[encoded data removed]",
      "text/plain": [
       "<Figure size 576x432 with 1 Axes>"
      ]
     },
     "metadata": {
      "needs_background": "light"
     },
     "output_type": "display_data"
    },
    {
     "data": {
      "image/png": "[encoded data removed]",
      "text/plain": [
       "<Figure size 576x432 with 1 Axes>"
      ]
     },
     "metadata": {
      "needs_background": "light"
     },
     "output_type": "display_data"
    }
   ],
   "source": [
    "# going to Predict probabilities instead of class labels\n",
    "y_probs_balanced = model_balanced.predict_proba(X_test_balanced)[:, 1]\n",
    "\n",
    "# set threshold value\n",
    "threshold = 0.3\n",
    "y_pred_custom_threshold = (y_probs_balanced >= threshold).astype(int)\n",
    "\n",
    "# Evaluating the model with the custom threshold\n",
    "accuracy_custom = accuracy_score(y_test_balanced, y_pred_custom_threshold)\n",
    "conf_matrix_custom = confusion_matrix(y_test_balanced, y_pred_custom_threshold)\n",
    "class_report_custom = classification_report(y_test_balanced, y_pred_custom_threshold)\n",
    "\n",
    "# results\n",
    "print(f\"Accuracy with custom threshold: {accuracy_custom}\")\n",
    "print(\"Confusion Matrix with custom threshold:\")\n",
    "print(conf_matrix_custom)\n",
    "print(\"Classification Report with custom threshold:\")\n",
    "print(class_report_custom)\n",
    "\n",
    "# ROC curve\n",
    "fpr, tpr, thresholds = roc_curve(y_test_balanced, y_probs_balanced)\n",
    "roc_auc = roc_auc_score(y_test_balanced, y_probs_balanced)\n",
    "\n",
    "plt.figure(figsize=(8, 6))\n",
    "plt.plot(fpr, tpr, label=f'ROC curve (AUC = {roc_auc:.2f})')\n",
    "plt.plot([0, 1], [0, 1], color='navy', linestyle='--')\n",
    "plt.xlabel('False Positive Rate')\n",
    "plt.ylabel('True Positive Rate')\n",
    "plt.title('ROC Curve')\n",
    "plt.legend(loc='lower right')\n",
    "plt.show()\n",
    "\n",
    "# Precision-Recall curve\n",
    "precision, recall, thresholds_pr = precision_recall_curve(y_test_balanced, y_probs_balanced)\n",
    "\n",
    "plt.figure(figsize=(8, 6))\n",
    "plt.plot(recall, precision, label='Precision-Recall curve')\n",
    "plt.xlabel('Recall')\n",
    "plt.ylabel('Precision')\n",
    "plt.title('Precision-Recall Curve')\n",
    "plt.legend(loc='lower left')\n",
    "plt.show()"
   ]
  },
  {
   "cell_type": "code",
   "execution_count": 42,
   "metadata": {},
   "outputs": [
    {
     "name": "stdout",
     "output_type": "stream",
     "text": [
      "Accuracy: 0.75\n",
      "Confusion Matrix:\n",
      "[[27  1]\n",
      " [11  9]]\n",
      "Classification Report:\n",
      "              precision    recall  f1-score   support\n",
      "\n",
      "           0       0.71      0.96      0.82        28\n",
      "           1       0.90      0.45      0.60        20\n",
      "\n",
      "    accuracy                           0.75        48\n",
      "   macro avg       0.81      0.71      0.71        48\n",
      "weighted avg       0.79      0.75      0.73        48\n",
      "\n"
     ]
    }
   ],
   "source": [
    "import pandas as pd\n",
    "from sklearn.model_selection import train_test_split\n",
    "from sklearn.linear_model import LogisticRegression\n",
    "from sklearn.metrics import classification_report, accuracy_score, confusion_matrix\n",
    "\n",
    "# Load the dataset\n",
    "original_dataset_path = 'creditcard.csv'\n",
    "df = pd.read_csv(original_dataset_path)\n",
    "\n",
    "# preprocessing phase \n",
    "# Select columns\n",
    "selected_columns = ['Time', 'V2', 'Amount', 'Class']\n",
    "df_selected = df[selected_columns]\n",
    "\n",
    "# Selection of 60 fraudulent transactions\n",
    "df_fraud = df_selected[df_selected['Class'] == 1].sample(n=60, random_state=1)\n",
    "\n",
    "# Selection of 100 non-fraudulent transactions\n",
    "df_non_fraud = df_selected[df_selected['Class'] == 0].sample(n=100, random_state=1)\n",
    "\n",
    "# Combining process of the selected samples\n",
    "df_balanced = pd.concat([df_fraud, df_non_fraud])\n",
    "\n",
    "# Split data into features and target\n",
    "X_balanced = df_balanced[['Time', 'V2', 'Amount']]\n",
    "y_balanced = df_balanced['Class']\n",
    "\n",
    "# Split data into training and testing sets\n",
    "X_train_balanced, X_test_balanced, y_train_balanced, y_test_balanced = train_test_split(X_balanced, y_balanced, test_size=0.3, random_state=1)\n",
    "\n",
    "# build the logistic regression model\n",
    "model_balanced = LogisticRegression(random_state=1, max_iter=1000)\n",
    "model_balanced.fit(X_train_balanced, y_train_balanced)\n",
    "\n",
    "# predictions on the test set\n",
    "y_pred_balanced = model_balanced.predict(X_test_balanced)\n",
    "\n",
    "# Evaluate the model\n",
    "accuracy_balanced = accuracy_score(y_test_balanced, y_pred_balanced)\n",
    "conf_matrix_balanced = confusion_matrix(y_test_balanced, y_pred_balanced)\n",
    "class_report_balanced = classification_report(y_test_balanced, y_pred_balanced)\n",
    "\n",
    "# Print the results\n",
    "print(f\"Accuracy: {accuracy_balanced}\")\n",
    "print(\"Confusion Matrix:\")\n",
    "print(conf_matrix_balanced)\n",
    "print(\"Classification Report:\")\n",
    "print(class_report_balanced)\n"
   ]
  },
  {
   "cell_type": "code",
   "execution_count": 43,
   "metadata": {},
   "outputs": [
    {
     "name": "stdout",
     "output_type": "stream",
     "text": [
      "Accuracy with custom threshold: 0.875\n",
      "Confusion Matrix with custom threshold:\n",
      "[[25  3]\n",
      " [ 3 17]]\n",
      "Classification Report with custom threshold:\n",
      "              precision    recall  f1-score   support\n",
      "\n",
      "           0       0.89      0.89      0.89        28\n",
      "           1       0.85      0.85      0.85        20\n",
      "\n",
      "    accuracy                           0.88        48\n",
      "   macro avg       0.87      0.87      0.87        48\n",
      "weighted avg       0.88      0.88      0.88        48\n",
      "\n"
     ]
    },
    {
     "data": {
      "image/png": "[encoded data removed]",
      "text/plain": [
       "<Figure size 576x432 with 1 Axes>"
      ]
     },
     "metadata": {
      "needs_background": "light"
     },
     "output_type": "display_data"
    },
    {
     "data": {
      "image/png": "[encoded data removed]",
      "text/plain": [
       "<Figure size 576x432 with 1 Axes>"
      ]
     },
     "metadata": {
      "needs_background": "light"
     },
     "output_type": "display_data"
    }
   ],
   "source": [
    "# going to Predict probabilities instead of class labels\n",
    "y_probs_balanced = model_balanced.predict_proba(X_test_balanced)[:, 1]\n",
    "\n",
    "# set threshold value\n",
    "threshold = 0.3\n",
    "y_pred_custom_threshold = (y_probs_balanced >= threshold).astype(int)\n",
    "\n",
    "# Evaluating the model with the custom threshold\n",
    "accuracy_custom = accuracy_score(y_test_balanced, y_pred_custom_threshold)\n",
    "conf_matrix_custom = confusion_matrix(y_test_balanced, y_pred_custom_threshold)\n",
    "class_report_custom = classification_report(y_test_balanced, y_pred_custom_threshold)\n",
    "\n",
    "# results\n",
    "print(f\"Accuracy with custom threshold: {accuracy_custom}\")\n",
    "print(\"Confusion Matrix with custom threshold:\")\n",
    "print(conf_matrix_custom)\n",
    "print(\"Classification Report with custom threshold:\")\n",
    "print(class_report_custom)\n",
    "\n",
    "# ROC curve\n",
    "fpr, tpr, thresholds = roc_curve(y_test_balanced, y_probs_balanced)\n",
    "roc_auc = roc_auc_score(y_test_balanced, y_probs_balanced)\n",
    "\n",
    "plt.figure(figsize=(8, 6))\n",
    "plt.plot(fpr, tpr, label=f'ROC curve (AUC = {roc_auc:.2f})')\n",
    "plt.plot([0, 1], [0, 1], color='navy', linestyle='--')\n",
    "plt.xlabel('False Positive Rate')\n",
    "plt.ylabel('True Positive Rate')\n",
    "plt.title('ROC Curve')\n",
    "plt.legend(loc='lower right')\n",
    "plt.show()\n",
    "\n",
    "# Precision-Recall curve\n",
    "precision, recall, thresholds_pr = precision_recall_curve(y_test_balanced, y_probs_balanced)\n",
    "\n",
    "plt.figure(figsize=(8, 6))\n",
    "plt.plot(recall, precision, label='Precision-Recall curve')\n",
    "plt.xlabel('Recall')\n",
    "plt.ylabel('Precision')\n",
    "plt.title('Precision-Recall Curve')\n",
    "plt.legend(loc='lower left')\n",
    "plt.show()"
   ]
  },
  {
   "cell_type": "markdown",
   "metadata": {},
   "source": [
    "building process of random forest (using v1,v2) (preprocessing step)"
   ]
  },
  {
   "cell_type": "code",
   "execution_count": 44,
   "metadata": {},
   "outputs": [
    {
     "name": "stdout",
     "output_type": "stream",
     "text": [
      "Accuracy: 0.7291666666666666\n",
      "Confusion Matrix:\n",
      "[[28  0]\n",
      " [13  7]]\n",
      "Classification Report:\n",
      "              precision    recall  f1-score   support\n",
      "\n",
      "           0       0.68      1.00      0.81        28\n",
      "           1       1.00      0.35      0.52        20\n",
      "\n",
      "    accuracy                           0.73        48\n",
      "   macro avg       0.84      0.68      0.67        48\n",
      "weighted avg       0.82      0.73      0.69        48\n",
      "\n"
     ]
    }
   ],
   "source": [
    "import pandas as pd\n",
    "from sklearn.model_selection import train_test_split\n",
    "from sklearn.ensemble import RandomForestClassifier\n",
    "from sklearn.metrics import classification_report, accuracy_score, confusion_matrix\n",
    "\n",
    "# Load the dataset\n",
    "original_dataset_path = 'creditcard.csv'\n",
    "df = pd.read_csv(original_dataset_path)\n",
    "\n",
    "# Preprocessing phase \n",
    "# Select columns\n",
    "selected_columns = ['Time', 'V1', 'Amount', 'Class']\n",
    "df_selected = df[selected_columns]\n",
    "\n",
    "# Selection of 60 fraudulent transactions\n",
    "df_fraud = df_selected[df_selected['Class'] == 1].sample(n=60, random_state=1)\n",
    "\n",
    "# Selection of 100 non-fraudulent transactions\n",
    "df_non_fraud = df_selected[df_selected['Class'] == 0].sample(n=100, random_state=1)\n",
    "\n",
    "# Combining process of the selected samples\n",
    "df_balanced = pd.concat([df_fraud, df_non_fraud])\n",
    "\n",
    "# Split data into features and target\n",
    "X_balanced = df_balanced[['Time', 'V1', 'Amount']]\n",
    "y_balanced = df_balanced['Class']\n",
    "\n",
    "# Split data into training and testing sets\n",
    "X_train_balanced, X_test_balanced, y_train_balanced, y_test_balanced = train_test_split(X_balanced, y_balanced, test_size=0.3, random_state=1)\n",
    "\n",
    "# Build the Random Forest classifier\n",
    "model_balanced = RandomForestClassifier(random_state=1)\n",
    "model_balanced.fit(X_train_balanced, y_train_balanced)\n",
    "\n",
    "# Predictions on the test set\n",
    "y_pred_balanced = model_balanced.predict(X_test_balanced)\n",
    "\n",
    "# Evaluate the model\n",
    "accuracy_balanced = accuracy_score(y_test_balanced, y_pred_balanced)\n",
    "conf_matrix_balanced = confusion_matrix(y_test_balanced, y_pred_balanced)\n",
    "class_report_balanced = classification_report(y_test_balanced, y_pred_balanced)\n",
    "\n",
    "# Print the results\n",
    "print(f\"Accuracy: {accuracy_balanced}\")\n",
    "print(\"Confusion Matrix:\")\n",
    "print(conf_matrix_balanced)\n",
    "print(\"Classification Report:\")\n",
    "print(class_report_balanced)"
   ]
  },
  {
   "cell_type": "code",
   "execution_count": 45,
   "metadata": {},
   "outputs": [
    {
     "name": "stdout",
     "output_type": "stream",
     "text": [
      "Accuracy: 0.8125\n",
      "Confusion Matrix:\n",
      "[[26  2]\n",
      " [ 7 13]]\n",
      "Classification Report:\n",
      "              precision    recall  f1-score   support\n",
      "\n",
      "           0       0.79      0.93      0.85        28\n",
      "           1       0.87      0.65      0.74        20\n",
      "\n",
      "    accuracy                           0.81        48\n",
      "   macro avg       0.83      0.79      0.80        48\n",
      "weighted avg       0.82      0.81      0.81        48\n",
      "\n"
     ]
    }
   ],
   "source": [
    "import pandas as pd\n",
    "from sklearn.model_selection import train_test_split\n",
    "from sklearn.ensemble import RandomForestClassifier\n",
    "from sklearn.metrics import classification_report, accuracy_score, confusion_matrix\n",
    "\n",
    "# Load the dataset\n",
    "original_dataset_path = 'creditcard.csv'\n",
    "df = pd.read_csv(original_dataset_path)\n",
    "\n",
    "# Preprocessing phase \n",
    "# Select columns\n",
    "selected_columns = ['Time', 'V2', 'Amount', 'Class']\n",
    "df_selected = df[selected_columns]\n",
    "\n",
    "# Selection of 60 fraudulent transactions\n",
    "df_fraud = df_selected[df_selected['Class'] == 1].sample(n=60, random_state=1)\n",
    "\n",
    "# Selection of 100 non-fraudulent transactions\n",
    "df_non_fraud = df_selected[df_selected['Class'] == 0].sample(n=100, random_state=1)\n",
    "\n",
    "# Combining process of the selected samples\n",
    "df_balanced = pd.concat([df_fraud, df_non_fraud])\n",
    "\n",
    "# Split data into features and target\n",
    "X_balanced = df_balanced[['Time', 'V2', 'Amount']]\n",
    "y_balanced = df_balanced['Class']\n",
    "\n",
    "# Split data into training and testing sets\n",
    "X_train_balanced, X_test_balanced, y_train_balanced, y_test_balanced = train_test_split(X_balanced, y_balanced, test_size=0.3, random_state=1)\n",
    "\n",
    "# Build the Random Forest classifier\n",
    "model_balanced = RandomForestClassifier(random_state=1)\n",
    "model_balanced.fit(X_train_balanced, y_train_balanced)\n",
    "\n",
    "# Predictions on the test set\n",
    "y_pred_balanced = model_balanced.predict(X_test_balanced)\n",
    "\n",
    "# Evaluate the model\n",
    "accuracy_balanced = accuracy_score(y_test_balanced, y_pred_balanced)\n",
    "conf_matrix_balanced = confusion_matrix(y_test_balanced, y_pred_balanced)\n",
    "class_report_balanced = classification_report(y_test_balanced, y_pred_balanced)\n",
    "\n",
    "# Print the results\n",
    "print(f\"Accuracy: {accuracy_balanced}\")\n",
    "print(\"Confusion Matrix:\")\n",
    "print(conf_matrix_balanced)\n",
    "print(\"Classification Report:\")\n",
    "print(class_report_balanced)"
   ]
  }
 ],
 "metadata": {
  "kernelspec": {
   "display_name": "Python 3.9.5 64-bit",
   "language": "python",
   "name": "python3"
  },
  "language_info": {
   "codemirror_mode": {
    "name": "ipython",
    "version": 3
   },
   "file_extension": ".py",
   "mimetype": "text/x-python",
   "name": "python",
   "nbconvert_exporter": "python",
   "pygments_lexer": "ipython3",
   "version": "3.9.5"
  },
  "orig_nbformat": 4,
  "vscode": {
   "interpreter": {
    "hash": "8f8cf99212f81ad0c4765861267244807ee1c18364846cdce387b28994a977ba"
   }
  }
 },
 "nbformat": 4,
 "nbformat_minor": 2
}
